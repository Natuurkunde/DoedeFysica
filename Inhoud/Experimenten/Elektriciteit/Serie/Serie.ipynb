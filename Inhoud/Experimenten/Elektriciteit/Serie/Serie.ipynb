{
 "cells": [
  {
   "cell_type": "markdown",
   "id": "b696ccf1",
   "metadata": {},
   "source": [
    "# Serie\n",
    "\n",
    "## Experiment 1\n",
    "Bouw het volgende circuit bestaande uit een regelbare spanningsbron en een lampje. Zet, voordat je de spanning aanzet, de spanning van de spanningsbron op 0 V. Schrijf je waarneming op bij de verschillende spanningen, voor 0 V is dit al voor je gedaan.\n",
    "\n",
    "```{figure} elek_ser_exp1.png\n",
    "\n",
    "```\n",
    "\n",
    "| Spanning (V) | Waarneming| \n",
    "|---|---|\n",
    "| 0,0 | Het lampje geeft geen licht. |\n",
    "| 1,0 | |\n",
    "| 2,0 | |\n",
    "| 3,0 | |\n",
    "| 4,0 | |\n",
    "| 5,0 | |\n",
    "| 6,0 | |\n",
    "\n",
    "Ik heb in dit experiment geleerd dat ……\n",
    "\n",
    "## Experiment 2\n",
    "Bouw het volgende circuit bestaande uit een regelbare spanningsbron, twee stroommeters en een lampje. Zet, voordat je de spanning aanzet, de spanning van de spanningsbron op 0 V. Schrijf de stroomsterktes op van beide meters bij de verschillende spanningen.\n",
    "\n",
    "```{figure} elek_ser_exp2.png\n",
    "\n",
    "```\n",
    "\n",
    "| Spanning (V) |Stroomsterkte$_1$ (A)| Stroomsterkte$_2$ (A)|\n",
    "|---|---|---|\n",
    "| 0,0 | | |\n",
    "| 1,0 | | |\n",
    "| 2,0 | | |\n",
    "| 3,0 | | |\n",
    "| 4,0 | | |\n",
    "| 5,0 | | |\n",
    "| 6,0 | | |\n",
    "\n",
    "Ik heb in dit experiment geleerd dat ……\n",
    "\n",
    "## Experiment 3\n",
    "Bouw het volgende circuit bestaande uit een regelbare spanningsbron, een stroommeter, een voltmeter en een Ohmse weerstand. Zet, voordat je de spanning aanzet, de spanning van de spanningsbron op 0 V. Bepaal de stroomsterkte door de weerstand bij verschillende spanningen over de weerstand. Zet vervolgens je metingen in een grafiek uit, met de spanning op de horizontale as.\n",
    "\n",
    "```{figure} elek_ser_exp3.png\n",
    "\n",
    "```\n",
    "\n",
    "| Spanning (V) |Stroomsterkte (A)| \n",
    "|---|---|\n",
    "| 0,0 | |\n",
    "| 1,0 | |\n",
    "| 2,0 | |\n",
    "| 3,0 | |\n",
    "| 4,0 | |\n",
    "| 5,0 | |\n",
    "| 6,0 | |\n",
    "\n",
    "Ik heb in dit experiment geleerd dat ……"
   ]
  },
  {
   "cell_type": "code",
   "execution_count": 2,
   "id": "0162d0cb",
   "metadata": {
    "tags": [
     "hide-input"
    ]
   },
   "outputs": [
    {
     "data": {
      "image/png": "[encoded data removed]",
      "text/plain": [
       "<Figure size 640x480 with 1 Axes>"
      ]
     },
     "metadata": {},
     "output_type": "display_data"
    }
   ],
   "source": [
    "import matplotlib.pyplot as plt\n",
    "import numpy as np\n",
    "\n",
    "U = np.linspace(0,6,7)\n",
    "\n",
    "plt.figure()\n",
    "\n",
    "plt.xlabel('$U$(V)')\n",
    "plt.ylabel('$I$(A)')\n",
    "\n",
    "plt.plot()\n",
    "\n",
    "plt.xlim(0, 6)\n",
    "plt.ylim(0, 1)\n",
    "plt.grid()\n",
    "\n",
    "plt.show()"
   ]
  },
  {
   "cell_type": "markdown",
   "id": "1c59322a",
   "metadata": {},
   "source": [
    "## Experiment 4\n",
    "Bouw het volgende circuit bestaande uit een regelbare spanningsbron, twee voltmeters een stroommeter en twee Ohmse weerstanden. Bepaal de stroomsterkte door het circuit, en de spanningen over de Ohmse weerstanden bij verschillende bronspanningen.\n",
    "Controleer dat:\n",
    "-\tDe spanningen over de Ohmse weerstanden bij elkaar opgeteld gelijk is aan de bronspanning.\n",
    "-\tDe spanning over R2 twee keer zo groot is als de spanning over R1.\n",
    "Zet de metingen van dit experiment, en van experiment 2, in de grafiek van experiment 3. Wat valt er op?\n",
    "\n",
    "```{figure} elek_ser_exp4.png\n",
    "\n",
    "```\n",
    "\n",
    "| Bronspanning (V) |Spanning$_1$ (V)| Spanning$_2$ (V)| Stroomsterkte (A) |\n",
    "|---|---|---|---|\n",
    "| 0,0 | | | |\n",
    "| 1,0 | | | |\n",
    "| 2,0 | | | |\n",
    "| 3,0 | | | |\n",
    "| 4,0 | | | |\n",
    "| 5,0 | | | |\n",
    "| 6,0 | | | |\n",
    "\n",
    "\n",
    "Ik heb in dit experiment geleerd dat ……\n",
    "\n",
    "## Experiment 5\n",
    "Bouw het volgende circuit bestaande uit een regelbare spanningsbron, twee stroommeters en twee Ohmse weerstanden. Bepaal de stroomsterktes door de twee Ohmse weerstanden bij verschillende spanningen.\n",
    "Controleer dat:\n",
    "-\tDe stroomsterktes door de Ohmse weerstanden bij elkaar opgeteld gelijk is aan de stroomsterkte geleverd door de bronspanning.\n",
    "-\tDe stroomsterkte door R2 twee keer zo groot is als de stroomsterkte door R1.\n",
    "\n",
    "```{figure} elek_ser_exp5.png\n",
    "\n",
    "```\n",
    "\n",
    "| Bronspanning (V) | Stroomsterkte$_{\\text{bron}}$ (A)| Stroomsterkte$_1$ (A)| Stroomsterkte$_2$ (A) |\n",
    "|---|---|---|---|\n",
    "| 0,0 | | | |\n",
    "| 1,0 | | | |\n",
    "| 2,0 | | | |\n",
    "| 3,0 | | | |\n",
    "| 4,0 | | | |\n",
    "| 5,0 | | | |\n",
    "| 6,0 | | | |\n",
    "\n",
    "Ik heb in dit experiment geleerd dat ……"
   ]
  }
 ],
 "metadata": {
  "kernelspec": {
   "display_name": "base",
   "language": "python",
   "name": "python3"
  },
  "language_info": {
   "codemirror_mode": {
    "name": "ipython",
    "version": 3
   },
   "file_extension": ".py",
   "mimetype": "text/x-python",
   "name": "python",
   "nbconvert_exporter": "python",
   "pygments_lexer": "ipython3",
   "version": "3.10.14"
  }
 },
 "nbformat": 4,
 "nbformat_minor": 5
}
