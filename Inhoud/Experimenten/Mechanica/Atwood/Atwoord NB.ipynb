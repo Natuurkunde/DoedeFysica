{
 "cells": [
  {
   "cell_type": "markdown",
   "id": "b9835fee",
   "metadata": {},
   "source": [
    "# Atwood en Newton de tweede\n",
    "\n",
    "## Doel\n",
    "Het *practicumdoel* van deze proef is de onbekende massa $m$ van het karretje zo nauwkeurig mogelijk te bepalen.\n",
    "Het *leerdoel* is de tweede wet van Newton te verifiëren.\n",
    "\n",
    "## Theorie\n",
    "\n",
    "\n",
    "## Ontwerp\n",
    "\n",
    "### Design\n",
    "\n",
    "### Materialen\n",
    "\n",
    "### Procedure\n",
    "\n"
   ]
  },
  {
   "cell_type": "markdown",
   "id": "0ac6ce26",
   "metadata": {},
   "source": [
    "## Resultaten"
   ]
  },
  {
   "cell_type": "code",
   "execution_count": null,
   "id": "7a1dde7a",
   "metadata": {},
   "outputs": [],
   "source": [
    "import numpy as np\n",
    "import matplotlib.pyplot as plt\n",
    "from scipy.optimize import curve_fit\n",
    "\n",
    "# Ruwe data\n",
    "m2 = np.array([0.0, 0.1, 0.2, 0.3, 0.4, 0.5])\n",
    "a = np.array([])\n"
   ]
  },
  {
   "cell_type": "code",
   "execution_count": null,
   "id": "390d28dc",
   "metadata": {},
   "outputs": [],
   "source": [
    "# Verwerking\n"
   ]
  },
  {
   "cell_type": "code",
   "execution_count": null,
   "id": "e2307ea3",
   "metadata": {},
   "outputs": [],
   "source": [
    "# Grafieken \n"
   ]
  },
  {
   "cell_type": "markdown",
   "id": "750b5c34",
   "metadata": {},
   "source": [
    "## Discussie en conclusie"
   ]
  }
 ],
 "metadata": {
  "language_info": {
   "name": "python"
  }
 },
 "nbformat": 4,
 "nbformat_minor": 5
}
