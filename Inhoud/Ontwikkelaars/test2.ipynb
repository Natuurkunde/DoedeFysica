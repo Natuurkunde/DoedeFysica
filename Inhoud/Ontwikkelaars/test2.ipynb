{
 "cells": [
  {
   "cell_type": "markdown",
   "id": "5d610594",
   "metadata": {},
   "source": [
    "# Jup notebook test "
   ]
  },
  {
   "cell_type": "markdown",
   "id": "7cb7a2a4",
   "metadata": {},
   "source": []
  },
  {
   "cell_type": "code",
   "execution_count": null,
   "id": "6381a63c",
   "metadata": {},
   "outputs": [],
   "source": [
    "import numpy as np\n",
    "import matplotlib.pyplot as plt\n",
    "\n",
    "x = np.linspace(0, 2 * np.pi, 100)\n",
    "y = np.sin(x)\n",
    "\n",
    "plt.figure()\n",
    "plt.plot(x, y, label='Sine wave')\n",
    "plt.title('Sine Function')\n",
    "plt.xlabel('x (radians)')\n",
    "plt.ylabel('sin(x)')\n",
    "plt.show()"
   ]
  },
  {
   "cell_type": "code",
   "execution_count": null,
   "id": "747f7190",
   "metadata": {
    "tags": [
     "hide-input"
    ]
   },
   "outputs": [],
   "source": [
    "x = np.linspace(0, 2 * np.pi, 100)\n",
    "y = np.sin(2 * x)\n",
    "\n",
    "plt.figure()\n",
    "plt.plot(x, y, label='Sine wave')\n",
    "plt.title('Sine Function')\n",
    "plt.xlabel('x (radians)')\n",
    "plt.ylabel('sin(x)')\n",
    "plt.show()"
   ]
  }
 ],
 "metadata": {
  "language_info": {
   "name": "python"
  }
 },
 "nbformat": 4,
 "nbformat_minor": 5
}
